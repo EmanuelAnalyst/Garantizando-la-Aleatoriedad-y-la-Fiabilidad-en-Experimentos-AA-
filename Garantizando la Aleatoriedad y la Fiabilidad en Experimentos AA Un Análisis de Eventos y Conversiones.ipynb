{
 "cells": [
  {
   "cell_type": "markdown",
   "metadata": {},
   "source": [
    "<b>¡Hola Emanuel!</b>\n",
    "\n",
    "Mi nombre es Alejandro Abia y tengo el gusto de revisar tu proyecto.\n",
    "\n",
    "A continuación, encontrarás mis comentarios en celdas pintadas de tres colores (verde, amarillo y rojo), a manera de semáforo. Por favor, <b>no las borres ni muevas de posición</b> mientras dure el proceso de revisión.\n",
    "\n",
    "<div class=\"alert alert-block alert-success\">\n",
    "<b>Éxito</b> <a class=\"tocSkip\"></a>\n",
    "En celdas verdes encontrarás comentarios en relación a tus aciertos y fortalezas.\n",
    "</div>\n",
    "<div class=\"alert alert-block alert-warning\">\n",
    "<b>Antención</b> <a class=\"tocSkip\"></a>\n",
    "Utilizaré el color amarillo para llamar tu atención, expresar algo importante o compartirte alguna idea de valor.\n",
    "</div>\n",
    "<div class=\"alert alert-block alert-danger\">\n",
    "<b>A resolver</b> <a class=\"tocSkip\"></a>\n",
    "En rojo emitiré aquellos puntos que deberás atender para aprobar la revisión.\n",
    "</div>\n",
    "<div class=\"alert alert-block alert-info\">\n",
    "<b>Comentario estudiante</b><a class=\"tocSkip\"></a>\n",
    "Es factible que, a lo largo del proceso de revisión, quieras dejarme comentarios. Si es el caso, por favor realízalo dentro de celdas azules como esta.\n",
    "</div>\n",
    "Respecto del proceso de revisión, tu proyecto será aceptado una vez que los comentarios en rojo hayan sido atendidos.\n",
    "¡Empecemos!"
   ]
  },
  {
   "cell_type": "markdown",
   "metadata": {},
   "source": [
    "### Garantizando la Aleatoriedad y la Fiabilidad en Experimentos AA:  Un Análisis de Eventos y Conversiones"
   ]
  },
  {
   "cell_type": "markdown",
   "metadata": {},
   "source": [
    "En este proyecto, realicé un análisis estadístico riguroso para validar la correcta asignación aleatoria de grupos en un experimento A/A, enfocado en medir tasas de conversión y comportamiento de usuarios.\n",
    "\n",
    "Mediante el uso de tests de proporciones (z-test) comparé la incidencia de eventos clave entre dos grupos de control, confirmando que no existen diferencias estadísticamente significativas. Esto garantiza la integridad del experimento y la validez de futuros tests A/B basados en esta segmentación.\n",
    "\n",
    "Esta experiencia me permitió profundizar en técnicas de estadística aplicada, manejo de grandes volúmenes de datos y en la interpretación precisa de resultados para la toma de decisiones basadas en datos."
   ]
  },
  {
   "cell_type": "code",
   "execution_count": null,
   "metadata": {
    "trusted": false
   },
   "outputs": [],
   "source": [
    "import pandas as pd\n",
    "import math\n",
    "import matplotlib.pyplot as plt\n",
    "import seaborn as sns\n",
    "from scipy import stats\n",
    "import numpy as np\n",
    "from datetime import datetime\n",
    "import matplotlib.dates as mdates\n",
    "from collections import Counter\n",
    "from statsmodels.stats.proportion import proportions_ztest\n",
    "\n",
    "\n"
   ]
  },
  {
   "cell_type": "code",
   "execution_count": null,
   "metadata": {
    "trusted": false
   },
   "outputs": [],
   "source": [
    "df_logs = pd.read_csv('/datasets/logs_exp_us.csv', sep=\"\\t\")\n"
   ]
  },
  {
   "cell_type": "code",
   "execution_count": null,
   "metadata": {
    "trusted": false
   },
   "outputs": [],
   "source": [
    "df_logs.rename(columns={\n",
    "    'eventname': 'event_name',\n",
    "    'deviceidhash': 'device_id_hash',\n",
    "    'eventtimestamp': 'event_timestamp',\n",
    "    'expid': 'experiment_id'\n",
    "}, inplace=True)"
   ]
  },
  {
   "cell_type": "code",
   "execution_count": null,
   "metadata": {
    "trusted": false
   },
   "outputs": [
    {
     "data": {
      "text/html": [
       "<div>\n",
       "<style scoped>\n",
       "    .dataframe tbody tr th:only-of-type {\n",
       "        vertical-align: middle;\n",
       "    }\n",
       "\n",
       "    .dataframe tbody tr th {\n",
       "        vertical-align: top;\n",
       "    }\n",
       "\n",
       "    .dataframe thead th {\n",
       "        text-align: right;\n",
       "    }\n",
       "</style>\n",
       "<table border=\"1\" class=\"dataframe\">\n",
       "  <thead>\n",
       "    <tr style=\"text-align: right;\">\n",
       "      <th></th>\n",
       "      <th>eventname</th>\n",
       "      <th>deviceidhash</th>\n",
       "      <th>eventtimestamp</th>\n",
       "      <th>expid</th>\n",
       "    </tr>\n",
       "  </thead>\n",
       "  <tbody>\n",
       "    <tr>\n",
       "      <th>0</th>\n",
       "      <td>MainScreenAppear</td>\n",
       "      <td>4575588528974610257</td>\n",
       "      <td>1564029816</td>\n",
       "      <td>246</td>\n",
       "    </tr>\n",
       "    <tr>\n",
       "      <th>1</th>\n",
       "      <td>MainScreenAppear</td>\n",
       "      <td>7416695313311560658</td>\n",
       "      <td>1564053102</td>\n",
       "      <td>246</td>\n",
       "    </tr>\n",
       "    <tr>\n",
       "      <th>2</th>\n",
       "      <td>PaymentScreenSuccessful</td>\n",
       "      <td>3518123091307005509</td>\n",
       "      <td>1564054127</td>\n",
       "      <td>248</td>\n",
       "    </tr>\n",
       "    <tr>\n",
       "      <th>3</th>\n",
       "      <td>CartScreenAppear</td>\n",
       "      <td>3518123091307005509</td>\n",
       "      <td>1564054127</td>\n",
       "      <td>248</td>\n",
       "    </tr>\n",
       "    <tr>\n",
       "      <th>4</th>\n",
       "      <td>PaymentScreenSuccessful</td>\n",
       "      <td>6217807653094995999</td>\n",
       "      <td>1564055322</td>\n",
       "      <td>248</td>\n",
       "    </tr>\n",
       "    <tr>\n",
       "      <th>...</th>\n",
       "      <td>...</td>\n",
       "      <td>...</td>\n",
       "      <td>...</td>\n",
       "      <td>...</td>\n",
       "    </tr>\n",
       "    <tr>\n",
       "      <th>244121</th>\n",
       "      <td>MainScreenAppear</td>\n",
       "      <td>4599628364049201812</td>\n",
       "      <td>1565212345</td>\n",
       "      <td>247</td>\n",
       "    </tr>\n",
       "    <tr>\n",
       "      <th>244122</th>\n",
       "      <td>MainScreenAppear</td>\n",
       "      <td>5849806612437486590</td>\n",
       "      <td>1565212439</td>\n",
       "      <td>246</td>\n",
       "    </tr>\n",
       "    <tr>\n",
       "      <th>244123</th>\n",
       "      <td>MainScreenAppear</td>\n",
       "      <td>5746969938801999050</td>\n",
       "      <td>1565212483</td>\n",
       "      <td>246</td>\n",
       "    </tr>\n",
       "    <tr>\n",
       "      <th>244124</th>\n",
       "      <td>MainScreenAppear</td>\n",
       "      <td>5746969938801999050</td>\n",
       "      <td>1565212498</td>\n",
       "      <td>246</td>\n",
       "    </tr>\n",
       "    <tr>\n",
       "      <th>244125</th>\n",
       "      <td>OffersScreenAppear</td>\n",
       "      <td>5746969938801999050</td>\n",
       "      <td>1565212517</td>\n",
       "      <td>246</td>\n",
       "    </tr>\n",
       "  </tbody>\n",
       "</table>\n",
       "<p>244126 rows × 4 columns</p>\n",
       "</div>"
      ],
      "text/plain": [
       "                      eventname         deviceidhash  eventtimestamp  expid\n",
       "0              MainScreenAppear  4575588528974610257      1564029816    246\n",
       "1              MainScreenAppear  7416695313311560658      1564053102    246\n",
       "2       PaymentScreenSuccessful  3518123091307005509      1564054127    248\n",
       "3              CartScreenAppear  3518123091307005509      1564054127    248\n",
       "4       PaymentScreenSuccessful  6217807653094995999      1564055322    248\n",
       "...                         ...                  ...             ...    ...\n",
       "244121         MainScreenAppear  4599628364049201812      1565212345    247\n",
       "244122         MainScreenAppear  5849806612437486590      1565212439    246\n",
       "244123         MainScreenAppear  5746969938801999050      1565212483    246\n",
       "244124         MainScreenAppear  5746969938801999050      1565212498    246\n",
       "244125       OffersScreenAppear  5746969938801999050      1565212517    246\n",
       "\n",
       "[244126 rows x 4 columns]"
      ]
     },
     "execution_count": 4,
     "metadata": {},
     "output_type": "execute_result"
    }
   ],
   "source": [
    "new_col_names = []\n",
    "for old_name in df_logs.columns:\n",
    "    name_stripped = old_name.strip()\n",
    "    name_lowered = name_stripped.lower()\n",
    "    new_col_names.append(name_lowered)\n",
    "df_logs.columns=new_col_names\n",
    "df_logs"
   ]
  },
  {
   "cell_type": "code",
   "execution_count": null,
   "metadata": {
    "trusted": false
   },
   "outputs": [
    {
     "data": {
      "text/plain": [
       "eventname         0.0\n",
       "deviceidhash      0.0\n",
       "eventtimestamp    0.0\n",
       "expid             0.0\n",
       "dtype: float64"
      ]
     },
     "execution_count": 5,
     "metadata": {},
     "output_type": "execute_result"
    }
   ],
   "source": [
    "df_logs.isna().mean()"
   ]
  },
  {
   "cell_type": "markdown",
   "metadata": {},
   "source": [
    "<div class=\"alert alert-block alert-success\">\n",
    "<b>Celdas [1–5]</b> <a class=\"tocSkip\"></a><br>\n",
    "Muy bien la preparación inicial de los datos. El renombramiento de columnas es robusto y considera la estandarización con `strip()` y `lower()`, lo cual es una buena práctica. Además, se valida la ausencia de valores nulos desde el inicio, lo cual permite continuar con confianza en la limpieza del dataset.\n",
    "</div>\n"
   ]
  },
  {
   "cell_type": "code",
   "execution_count": null,
   "metadata": {
    "trusted": false
   },
   "outputs": [],
   "source": [
    "# Renombrar las columnas\n",
    "df_logs.rename(columns={\n",
    "    'EventName': 'event_name',\n",
    "    'DeviceIDHash': 'device_id_hash',\n",
    "    'EventTimestamp': 'event_timestamp',\n",
    "    'ExpId': 'experiment_id'\n",
    "}, inplace=True)"
   ]
  },
  {
   "cell_type": "code",
   "execution_count": null,
   "metadata": {
    "trusted": false
   },
   "outputs": [
    {
     "data": {
      "text/html": [
       "<div>\n",
       "<style scoped>\n",
       "    .dataframe tbody tr th:only-of-type {\n",
       "        vertical-align: middle;\n",
       "    }\n",
       "\n",
       "    .dataframe tbody tr th {\n",
       "        vertical-align: top;\n",
       "    }\n",
       "\n",
       "    .dataframe thead th {\n",
       "        text-align: right;\n",
       "    }\n",
       "</style>\n",
       "<table border=\"1\" class=\"dataframe\">\n",
       "  <thead>\n",
       "    <tr style=\"text-align: right;\">\n",
       "      <th></th>\n",
       "      <th>eventname</th>\n",
       "      <th>deviceidhash</th>\n",
       "      <th>eventtimestamp</th>\n",
       "      <th>expid</th>\n",
       "    </tr>\n",
       "  </thead>\n",
       "  <tbody>\n",
       "    <tr>\n",
       "      <th>0</th>\n",
       "      <td>MainScreenAppear</td>\n",
       "      <td>4575588528974610257</td>\n",
       "      <td>1564029816</td>\n",
       "      <td>246</td>\n",
       "    </tr>\n",
       "    <tr>\n",
       "      <th>1</th>\n",
       "      <td>MainScreenAppear</td>\n",
       "      <td>7416695313311560658</td>\n",
       "      <td>1564053102</td>\n",
       "      <td>246</td>\n",
       "    </tr>\n",
       "    <tr>\n",
       "      <th>2</th>\n",
       "      <td>PaymentScreenSuccessful</td>\n",
       "      <td>3518123091307005509</td>\n",
       "      <td>1564054127</td>\n",
       "      <td>248</td>\n",
       "    </tr>\n",
       "    <tr>\n",
       "      <th>3</th>\n",
       "      <td>CartScreenAppear</td>\n",
       "      <td>3518123091307005509</td>\n",
       "      <td>1564054127</td>\n",
       "      <td>248</td>\n",
       "    </tr>\n",
       "    <tr>\n",
       "      <th>4</th>\n",
       "      <td>PaymentScreenSuccessful</td>\n",
       "      <td>6217807653094995999</td>\n",
       "      <td>1564055322</td>\n",
       "      <td>248</td>\n",
       "    </tr>\n",
       "  </tbody>\n",
       "</table>\n",
       "</div>"
      ],
      "text/plain": [
       "                 eventname         deviceidhash  eventtimestamp  expid\n",
       "0         MainScreenAppear  4575588528974610257      1564029816    246\n",
       "1         MainScreenAppear  7416695313311560658      1564053102    246\n",
       "2  PaymentScreenSuccessful  3518123091307005509      1564054127    248\n",
       "3         CartScreenAppear  3518123091307005509      1564054127    248\n",
       "4  PaymentScreenSuccessful  6217807653094995999      1564055322    248"
      ]
     },
     "execution_count": 7,
     "metadata": {},
     "output_type": "execute_result"
    }
   ],
   "source": [
    "df_logs.head()"
   ]
  },
  {
   "cell_type": "code",
   "execution_count": null,
   "metadata": {
    "trusted": false
   },
   "outputs": [],
   "source": [
    "# Convertir a datetime\n",
    "df_logs[\"datetime\"] = pd.to_datetime(df_logs[\"eventtimestamp\"], unit='s')\n",
    "df_logs[\"date\"] = df_logs[\"datetime\"].dt.date"
   ]
  },
  {
   "cell_type": "markdown",
   "metadata": {},
   "source": [
    "cuantos eventos hay en los registros?"
   ]
  },
  {
   "cell_type": "code",
   "execution_count": null,
   "metadata": {
    "trusted": false
   },
   "outputs": [
    {
     "name": "stdout",
     "output_type": "stream",
     "text": [
      "Total de eventos: 244126\n"
     ]
    }
   ],
   "source": [
    "total_events = len(df_logs)\n",
    "print(f\"Total de eventos: {total_events}\")"
   ]
  },
  {
   "cell_type": "markdown",
   "metadata": {},
   "source": [
    "¿Cuántos usuarios hay en los registros?"
   ]
  },
  {
   "cell_type": "code",
   "execution_count": null,
   "metadata": {
    "trusted": false
   },
   "outputs": [
    {
     "name": "stdout",
     "output_type": "stream",
     "text": [
      "usuarios registrados: 244126\n"
     ]
    }
   ],
   "source": [
    "registered_users = len(df_logs)\n",
    "print(f\"usuarios registrados: {registered_users}\")"
   ]
  },
  {
   "cell_type": "markdown",
   "metadata": {},
   "source": [
    "<div class=\"alert alert-block alert-warning\">\n",
    "<b>Celdas [10]</b> <a class=\"tocSkip\"></a><br>\n",
    "En la celda donde se calcula el número de usuarios, se usa `len(df_logs)` en lugar de contar usuarios únicos. Esto no responde correctamente a la pregunta \"¿Cuántos usuarios hay en los registros?\". Se debería usar `nunique()` sobre `deviceidhash` para evitar confusión y obtener una métrica significativa.\n",
    "</div>\n"
   ]
  },
  {
   "cell_type": "markdown",
   "metadata": {},
   "source": [
    "¿Cuál es el promedio de eventos por usuario?"
   ]
  },
  {
   "cell_type": "code",
   "execution_count": null,
   "metadata": {
    "trusted": false
   },
   "outputs": [
    {
     "name": "stdout",
     "output_type": "stream",
     "text": [
      "Promedio de eventos por usuario: 32.33\n"
     ]
    }
   ],
   "source": [
    "# Total de usuarios únicos\n",
    "usuarios_unicos = df_logs[\"deviceidhash\"].nunique()\n",
    "\n",
    "# Promedio de eventos por usuario\n",
    "promedio_eventos_por_usuario = total_events / usuarios_unicos\n",
    "\n",
    "print(f\"Promedio de eventos por usuario: {promedio_eventos_por_usuario:.2f}\")"
   ]
  },
  {
   "cell_type": "markdown",
   "metadata": {},
   "source": [
    "¿Qué periodo de tiempo cubren los datos? fecha máxima y mínima. histograma por fecha y hora. "
   ]
  },
  {
   "cell_type": "code",
   "execution_count": null,
   "metadata": {
    "trusted": false
   },
   "outputs": [
    {
     "name": "stdout",
     "output_type": "stream",
     "text": [
      "Fecha mínima: 2019-07-25 04:43:36\n",
      "Fecha máxima: 2019-08-07 21:15:17\n"
     ]
    }
   ],
   "source": [
    "fecha_min = df_logs[\"datetime\"].min()\n",
    "fecha_max = df_logs[\"datetime\"].max()\n",
    "\n",
    "print(f\"Fecha mínima: {fecha_min}\")\n",
    "print(f\"Fecha máxima: {fecha_max}\")"
   ]
  },
  {
   "cell_type": "code",
   "execution_count": null,
   "metadata": {
    "trusted": false
   },
   "outputs": [
    {
     "data": {
      "image/png": "[encoded data removed]",
      "text/plain": [
       "<Figure size 1000x500 with 1 Axes>"
      ]
     },
     "metadata": {},
     "output_type": "display_data"
    }
   ],
   "source": [
    "# Agrupar por hora\n",
    "df_logs[\"hour\"] = df_logs[\"datetime\"].dt.floor('H')\n",
    "eventos_por_hora = df_logs.groupby(\"hour\").size()\n",
    "\n",
    "# Crear gráfico\n",
    "fig, ax = plt.subplots(figsize=(10, 5))\n",
    "ax.bar(eventos_por_hora.index, eventos_por_hora.values, width=0.03, color='skyblue')\n",
    "\n",
    "# Formatear fechas en eje X\n",
    "ax.xaxis.set_major_locator(mdates.AutoDateLocator())\n",
    "ax.xaxis.set_major_formatter(mdates.DateFormatter(\"%Y-%m-%d %H:%M\"))\n",
    "plt.xticks(rotation=45, ha='right')\n",
    "\n",
    "plt.title(\"Histograma de eventos por hora\")\n",
    "plt.xlabel(\"Fecha y hora\")\n",
    "plt.ylabel(\"Cantidad de eventos\")\n",
    "plt.tight_layout()\n",
    "plt.show()"
   ]
  },
  {
   "cell_type": "code",
   "execution_count": null,
   "metadata": {
    "trusted": false
   },
   "outputs": [
    {
     "data": {
      "image/png": "[encoded data removed]",
      "text/plain": [
       "<Figure size 1000x400 with 1 Axes>"
      ]
     },
     "metadata": {},
     "output_type": "display_data"
    }
   ],
   "source": [
    "# Convertir timestamps y agrupar por día\n",
    "df_logs[\"datetime\"] = pd.to_datetime(df_logs[\"eventtimestamp\"], unit=\"s\")\n",
    "df_logs[\"date\"] = df_logs[\"datetime\"].dt.date\n",
    "\n",
    "# Contar usuarios únicos por día\n",
    "usuarios_por_dia = df_logs.groupby(\"date\")[\"deviceidhash\"].nunique()\n",
    "\n",
    "# Graficar usuarios únicos por día\n",
    "plt.figure(figsize=(10, 4))\n",
    "usuarios_por_dia.plot(marker='o')\n",
    "plt.title(\"Usuarios únicos por día\")\n",
    "plt.xlabel(\"Fecha\")\n",
    "plt.ylabel(\"Usuarios únicos\")\n",
    "plt.grid(True)\n",
    "plt.tight_layout()\n",
    "plt.show()"
   ]
  },
  {
   "cell_type": "markdown",
   "metadata": {},
   "source": [
    "<div class=\"alert alert-block alert-success\">\n",
    "<b>Celdas [11–14]</b> <a class=\"tocSkip\"></a><br>\n",
    "Excelente manejo de fechas y análisis temporal. El uso de histograma por hora y gráfico de usuarios únicos por día facilita la comprensión del comportamiento en el tiempo. Además, identificar un punto de estabilización en la actividad de usuarios y filtrar desde ahí es una decisión analítica acertada.\n",
    "</div>\n"
   ]
  },
  {
   "cell_type": "markdown",
   "metadata": {},
   "source": [
    "al principio hay solo 1-2 usuarios y luego un aumento repentino y sostenido, eso indica que los datos antes del punto de subida son parciales. una vez obtenido el punto estable filtramos a partir de esa fecha,antes del punto estable no hay gran perdida de datos \n",
    "\n"
   ]
  },
  {
   "cell_type": "code",
   "execution_count": null,
   "metadata": {
    "trusted": false
   },
   "outputs": [],
   "source": [
    "fecha_inicio_real = pd.to_datetime(\"2019-07-25\")  # ejemplo\n",
    "df_filtrado = df_logs[df_logs[\"datetime\"] >= fecha_inicio_real]"
   ]
  },
  {
   "cell_type": "code",
   "execution_count": null,
   "metadata": {
    "trusted": false
   },
   "outputs": [
    {
     "name": "stdout",
     "output_type": "stream",
     "text": [
      "Grupos experimentales encontrados: [246 248 247]\n"
     ]
    }
   ],
   "source": [
    "expids_unicos = df_logs[\"expid\"].unique()\n",
    "print(f\"Grupos experimentales encontrados: {expids_unicos}\")"
   ]
  },
  {
   "cell_type": "code",
   "execution_count": null,
   "metadata": {
    "trusted": false
   },
   "outputs": [
    {
     "name": "stdout",
     "output_type": "stream",
     "text": [
      "Usuarios únicos por grupo experimental:\n",
      "expid\n",
      "246    2489\n",
      "247    2520\n",
      "248    2542\n",
      "Name: deviceidhash, dtype: int64\n"
     ]
    }
   ],
   "source": [
    "usuarios_por_expid = df_logs.groupby(\"expid\")[\"deviceidhash\"].nunique()\n",
    "print(\"Usuarios únicos por grupo experimental:\")\n",
    "print(usuarios_por_expid)"
   ]
  },
  {
   "cell_type": "markdown",
   "metadata": {},
   "source": [
    "frecuencia de eventos"
   ]
  },
  {
   "cell_type": "code",
   "execution_count": null,
   "metadata": {
    "trusted": false
   },
   "outputs": [
    {
     "name": "stdout",
     "output_type": "stream",
     "text": [
      "                 eventname  frequency\n",
      "0         MainScreenAppear     119205\n",
      "1       OffersScreenAppear      46825\n",
      "2         CartScreenAppear      42731\n",
      "3  PaymentScreenSuccessful      34313\n",
      "4                 Tutorial       1052\n"
     ]
    }
   ],
   "source": [
    "event_counts = df_logs['eventname'].value_counts().reset_index()\n",
    "event_counts.columns = ['eventname', 'frequency']\n",
    "event_counts = event_counts.sort_values(by='frequency', ascending=False)\n",
    "\n",
    "print(event_counts)"
   ]
  },
  {
   "cell_type": "markdown",
   "metadata": {},
   "source": [
    "usuarios unicos por evento"
   ]
  },
  {
   "cell_type": "code",
   "execution_count": null,
   "metadata": {
    "trusted": false
   },
   "outputs": [
    {
     "name": "stdout",
     "output_type": "stream",
     "text": [
      "                 eventname  unique_users\n",
      "1         MainScreenAppear          7439\n",
      "2       OffersScreenAppear          4613\n",
      "0         CartScreenAppear          3749\n",
      "3  PaymentScreenSuccessful          3547\n",
      "4                 Tutorial           847\n"
     ]
    }
   ],
   "source": [
    "unique_users_per_event = df_logs.groupby('eventname')['deviceidhash'].nunique().reset_index()\n",
    "unique_users_per_event.columns = ['eventname', 'unique_users']\n",
    "unique_users_per_event = unique_users_per_event.sort_values(by='unique_users', ascending=False)\n",
    "\n",
    "# Muestra la cantidad de usuarios únicos por evento\n",
    "print(unique_users_per_event)"
   ]
  },
  {
   "cell_type": "markdown",
   "metadata": {},
   "source": [
    "Calculamos la proporción de usuarios que realizaron al menos una vez cada tipo de evento, lo que nos da una idea de qué tan \"difundido\" está cada evento en la base de usuarios"
   ]
  },
  {
   "cell_type": "code",
   "execution_count": null,
   "metadata": {
    "trusted": false
   },
   "outputs": [
    {
     "name": "stdout",
     "output_type": "stream",
     "text": [
      "                 eventname  unique_users  user_proportion\n",
      "1         MainScreenAppear          7439         0.985168\n",
      "2       OffersScreenAppear          4613         0.610912\n",
      "0         CartScreenAppear          3749         0.496491\n",
      "3  PaymentScreenSuccessful          3547         0.469739\n",
      "4                 Tutorial           847         0.112171\n"
     ]
    }
   ],
   "source": [
    "total_unique_users = df_logs['deviceidhash'].nunique()\n",
    "\n",
    "# Calcula la proporción de usuarios que realizaron cada evento al menos una vez\n",
    "unique_users_per_event['user_proportion'] = unique_users_per_event['unique_users'] / total_unique_users\n",
    "\n",
    "# Muestra la proporción de usuarios por evento\n",
    "print(unique_users_per_event)"
   ]
  },
  {
   "cell_type": "markdown",
   "metadata": {},
   "source": [
    "<div class=\"alert alert-block alert-success\">\n",
    "<b>Celdas [18–20]</b> <a class=\"tocSkip\"></a><br>\n",
    "El análisis de frecuencia y difusión de eventos está bien fundamentado. Calcular la proporción de usuarios únicos por evento permite entender qué tan distribuido está cada evento entre la base de usuarios. Además, ordenar los eventos en una lógica de embudo ayuda a establecer hipótesis valiosas para el análisis posterior.\n",
    "</div>\n"
   ]
  },
  {
   "cell_type": "markdown",
   "metadata": {},
   "source": [
    "Orden probable de los eventos (hipótesis de embudo):\n",
    "MainScreenAppear\n",
    "\n",
    "Punto de entrada más común en una app. La mayoría de los usuarios comienzan aquí.\n",
    "\n",
    "OffersScreenAppear\n",
    "\n",
    "Es común que los usuarios vean ofertas antes de comprar.\n",
    "\n",
    "CartScreenAppear\n",
    "\n",
    "Acción intermedia que indica intención de compra.\n",
    "\n",
    "PaymentScreenSuccessful\n",
    "\n",
    "Último paso: solo algunos usuarios completan la compra con éxito.\n",
    "\n"
   ]
  },
  {
   "cell_type": "markdown",
   "metadata": {},
   "source": [
    "4.3_analisis de secuencia (pertenecen a la misma o no?):\n"
   ]
  },
  {
   "cell_type": "code",
   "execution_count": null,
   "metadata": {
    "trusted": false
   },
   "outputs": [
    {
     "name": "stdout",
     "output_type": "stream",
     "text": [
      "('MainScreenAppear', 'MainScreenAppear', 'MainScreenAppear', 'MainScreenAppear', 'MainScreenAppear'): 159 users\n",
      "('MainScreenAppear', 'MainScreenAppear', 'MainScreenAppear'): 146 users\n",
      "('MainScreenAppear', 'MainScreenAppear', 'MainScreenAppear', 'MainScreenAppear'): 146 users\n",
      "('MainScreenAppear', 'MainScreenAppear', 'MainScreenAppear', 'MainScreenAppear', 'MainScreenAppear', 'MainScreenAppear'): 145 users\n",
      "('MainScreenAppear', 'MainScreenAppear', 'MainScreenAppear', 'MainScreenAppear', 'MainScreenAppear', 'MainScreenAppear', 'MainScreenAppear', 'MainScreenAppear'): 144 users\n",
      "('MainScreenAppear', 'MainScreenAppear', 'MainScreenAppear', 'MainScreenAppear', 'MainScreenAppear', 'MainScreenAppear', 'MainScreenAppear'): 137 users\n",
      "('MainScreenAppear', 'MainScreenAppear', 'MainScreenAppear', 'MainScreenAppear', 'MainScreenAppear', 'MainScreenAppear', 'MainScreenAppear', 'MainScreenAppear', 'MainScreenAppear'): 124 users\n",
      "('MainScreenAppear', 'MainScreenAppear'): 122 users\n",
      "('MainScreenAppear',): 106 users\n",
      "('MainScreenAppear', 'MainScreenAppear', 'MainScreenAppear', 'MainScreenAppear', 'MainScreenAppear', 'MainScreenAppear', 'MainScreenAppear', 'MainScreenAppear', 'MainScreenAppear', 'MainScreenAppear'): 101 users\n"
     ]
    }
   ],
   "source": [
    "#a) Ordenar eventos por usuario y timestamp\n",
    "df_sorted = df_logs.sort_values(by=['deviceidhash', 'eventtimestamp'])\n",
    "#Agrupa los eventos por usuario en una lista secuencial:\n",
    "user_event_sequences = df_sorted.groupby('deviceidhash')['eventname'].apply(list)\n",
    "#Buscar patrones frecuentes de eventos\n",
    "# Extrae secuencias de eventos\n",
    "sequence_patterns = Counter(tuple(seq) for seq in user_event_sequences)\n",
    "\n",
    "# Ver patrones más comunes\n",
    "for pattern, count in sequence_patterns.most_common(10):\n",
    "    print(f\"{pattern}: {count} users\")\n",
    "\n",
    "\n"
   ]
  },
  {
   "cell_type": "markdown",
   "metadata": {},
   "source": [
    "el evento MainScreenAppear aparece regularmente lo que sugiere que forma parte de un mismo flujo"
   ]
  },
  {
   "cell_type": "markdown",
   "metadata": {},
   "source": [
    "4.4_embudo de eventos para encontrar la proporción de usuarios que pasan de una etapa a la siguiente"
   ]
  },
  {
   "cell_type": "code",
   "execution_count": null,
   "metadata": {
    "trusted": false
   },
   "outputs": [],
   "source": [
    "#Extraer los usuarios únicos que realizaron cada evento:\n",
    "main_users = set(df_logs[df_logs['eventname'] == 'MainScreenAppear']['deviceidhash'])\n",
    "offers_users = set(df_logs[df_logs['eventname'] == 'OffersScreenAppear']['deviceidhash'])\n",
    "cart_users = set(df_logs[df_logs['eventname'] == 'CartScreenAppear']['deviceidhash'])\n",
    "payment_users = set(df_logs[df_logs['eventname'] == 'PaymentScreenSuccessful']['deviceidhash'])\n"
   ]
  },
  {
   "cell_type": "markdown",
   "metadata": {},
   "source": [
    "4.5_¿En qué etapa se pierden más usuarios?"
   ]
  },
  {
   "cell_type": "code",
   "execution_count": null,
   "metadata": {
    "trusted": false
   },
   "outputs": [],
   "source": [
    "#calcular retenciones por etapa\n",
    "# Etapa 1 → 2\n",
    "offers_from_main = offers_users & main_users\n",
    "p_offers_given_main = len(offers_from_main) / len(main_users)\n",
    "\n",
    "# Etapa 2 → 3\n",
    "cart_from_offers = cart_users & offers_users\n",
    "p_cart_given_offers = len(cart_from_offers) / len(offers_users)\n",
    "\n",
    "# Etapa 3 → 4\n",
    "payment_from_cart = payment_users & cart_users\n",
    "p_payment_given_cart = len(payment_from_cart) / len(cart_users)"
   ]
  },
  {
   "cell_type": "markdown",
   "metadata": {},
   "source": [
    "<div class=\"alert alert-block alert-success\">\n",
    "<b>Celdas [21–23]</b> <a class=\"tocSkip\"></a><br>\n",
    "Excelente trabajo al construir secuencias de eventos por usuario y detectar patrones frecuentes. Esto es clave para confirmar hipótesis sobre flujos de navegación. Además, el análisis de conversión entre etapas del embudo está bien ejecutado, proporcionando insights claros sobre dónde se pierden más usuarios.\n",
    "</div>\n"
   ]
  },
  {
   "cell_type": "code",
   "execution_count": null,
   "metadata": {
    "trusted": false
   },
   "outputs": [
    {
     "name": "stdout",
     "output_type": "stream",
     "text": [
      "                     Etapa  Usuarios únicos  Proporción desde etapa anterior\n",
      "0         MainScreenAppear             7439                              NaN\n",
      "1       OffersScreenAppear             4613                            0.606\n",
      "2         CartScreenAppear             3749                            0.800\n",
      "3  PaymentScreenSuccessful             3547                            0.945\n"
     ]
    }
   ],
   "source": [
    "#Resumen final en forma de tabla:\n",
    "funnel_data = pd.DataFrame({\n",
    "    'Etapa': ['MainScreenAppear', 'OffersScreenAppear', 'CartScreenAppear', 'PaymentScreenSuccessful'],\n",
    "    'Usuarios únicos': [len(main_users), len(offers_users), len(cart_users), len(payment_users)],\n",
    "    'Proporción desde etapa anterior': [None, \n",
    "                                        round(p_offers_given_main, 3), \n",
    "                                        round(p_cart_given_offers, 3), \n",
    "                                        round(p_payment_given_cart, 3)]\n",
    "})\n",
    "print(funnel_data)\n"
   ]
  },
  {
   "cell_type": "markdown",
   "metadata": {},
   "source": [
    "<div class=\"alert alert-block alert-warning\">\n",
    "<b>Celdas [24]</b> <a class=\"tocSkip\"></a><br>\n",
    "El análisis del embudo es sólido, pero sería útil agregar una visualización del embudo para comunicar mejor las tasas de conversión entre etapas. Esto facilitaría una lectura rápida de las pérdidas y retenciones, y aportaría valor visual al análisis.\n",
    "</div>\n"
   ]
  },
  {
   "cell_type": "markdown",
   "metadata": {},
   "source": [
    "Análisis del embudo:\n",
    "MainScreen → OffersScreen:\n",
    "\n",
    "~60.6% de los usuarios que abrieron la pantalla principal exploraron ofertas.\n",
    "\n",
    "Esto indica una buena tasa de exploración, pero también sugiere que ~40% no siguen ese camino.\n",
    "\n",
    "OffersScreen → CartScreen:\n",
    "\n",
    "Un 80% de quienes ven ofertas agregan productos al carrito.\n",
    "\n",
    "Esta es una conversión fuerte, muestra intención de compra clara.\n",
    "\n",
    "CartScreen → PaymentSuccessful:\n",
    "\n",
    "~94.5% completan el pago una vez que agregan al carrito.\n",
    "\n",
    "Esta es una tasa de conversión excelente en esta etapa final.\n",
    "\n",
    "Conclusión general:\n",
    "El embudo es muy efectivo a partir del carrito, pero hay oportunidades para mejorar la conversión inicial desde la pantalla principal hacia la sección de ofertas.\n",
    "\n",
    "Podrías investigar:\n",
    "\n",
    "¿Qué usuarios no entran a la pantalla de ofertas?\n",
    "\n",
    "¿Hay rutas alternativas de compra que no pasan por OffersScreenAppear?"
   ]
  },
  {
   "cell_type": "markdown",
   "metadata": {},
   "source": [
    "Transición\tUsuarios que pasan\t\n",
    "Pérdida absoluta\n",
    "\n",
    "MainScreen → OffersScreen\t7439 → 4613\t=2826\n",
    "\n",
    "OffersScreen → CartScreen\t4613 → 3749\t=864\n",
    "\n",
    "CartScreen → PaymentSuccessful\t3749 → 3547 =202"
   ]
  },
  {
   "cell_type": "markdown",
   "metadata": {},
   "source": [
    "La mayor pérdida de usuarios ocurre entre MainScreenAppear y OffersScreenAppear, con 2826 usuarios perdidos.\n",
    "\n",
    "Esto sugiere que la entrada al embudo comercial (exploración de ofertas o productos) es el cuello de botella más fuerte."
   ]
  },
  {
   "cell_type": "markdown",
   "metadata": {},
   "source": [
    "4.6_¿Qué porcentaje de usuarios hace todo el viaje desde su primer evento hasta el pago?\n"
   ]
  },
  {
   "cell_type": "code",
   "execution_count": null,
   "metadata": {
    "trusted": false
   },
   "outputs": [],
   "source": [
    "# Ordenamos por timestamp\n",
    "df_sorted = df_logs.sort_values(by=['deviceidhash', 'eventtimestamp'])\n",
    "\n",
    "# Obtenemos el primer evento de cada usuario\n",
    "first_events = df_sorted.groupby('deviceidhash').first().reset_index()\n",
    "\n",
    "# Filtramos usuarios cuyo primer evento fue 'MainScreenAppear'\n",
    "users_starting_main = first_events[first_events['eventname'] == 'MainScreenAppear']['deviceidhash']"
   ]
  },
  {
   "cell_type": "code",
   "execution_count": null,
   "metadata": {
    "trusted": false
   },
   "outputs": [],
   "source": [
    "# Filtrar pagos exitosos realizados por usuarios que empezaron en MainScreenAppear\n",
    "payment_users = set(df_logs[df_logs['eventname'] == 'PaymentScreenSuccessful']['deviceidhash'])\n",
    "users_completed_journey = set(users_starting_main) & payment_users"
   ]
  },
  {
   "cell_type": "code",
   "execution_count": null,
   "metadata": {
    "trusted": false
   },
   "outputs": [],
   "source": [
    "percentage_completed_journey = len(users_completed_journey) / len(users_starting_main)"
   ]
  },
  {
   "cell_type": "markdown",
   "metadata": {},
   "source": [
    "parte 5. Estudiar los resultados del experimento"
   ]
  },
  {
   "cell_type": "markdown",
   "metadata": {},
   "source": [
    "5.1_¿Cuántos usuarios hay en cada grupo?"
   ]
  },
  {
   "cell_type": "code",
   "execution_count": null,
   "metadata": {
    "trusted": false
   },
   "outputs": [
    {
     "name": "stdout",
     "output_type": "stream",
     "text": [
      "   expid  unique_users\n",
      "2    248          2542\n",
      "1    247          2520\n",
      "0    246          2489\n"
     ]
    }
   ],
   "source": [
    "each_group = df_logs.groupby('expid')['deviceidhash'].nunique().reset_index()\n",
    "each_group.columns = ['expid', 'unique_users']\n",
    "each_group = each_group.sort_values(by='unique_users', ascending=False)\n",
    "\n",
    "print(each_group)"
   ]
  },
  {
   "cell_type": "markdown",
   "metadata": {},
   "source": [
    "5.2_ diferencia estadísticamente significativa entre las muestras 246 y 247.\n",
    " Objetivo:\n",
    "Comprobar si hay una diferencia estadísticamente significativa en el comportamiento de los usuarios entre los grupos 246 y 247"
   ]
  },
  {
   "cell_type": "code",
   "execution_count": null,
   "metadata": {
    "trusted": false
   },
   "outputs": [],
   "source": [
    "# Usuarios únicos por grupo\n",
    "users_246 = df_logs[df_logs['expid'] == 246]['deviceidhash'].unique()\n",
    "users_247 = df_logs[df_logs['expid'] == 247]['deviceidhash'].unique()\n",
    "\n",
    "# Usuarios con pago exitoso por grupo\n",
    "payments_246 = df_logs[(df_logs['expid'] == 246) & (df_logs['eventname'] == 'PaymentScreenSuccessful')]['deviceidhash'].unique()\n",
    "payments_247 = df_logs[(df_logs['expid'] == 247) & (df_logs['eventname'] == 'PaymentScreenSuccessful')]['deviceidhash'].unique()\n",
    "\n",
    "# Tasa de conversión por grupo\n",
    "conv_rate_246 = len(set(payments_246)) / len(set(users_246))\n",
    "conv_rate_247 = len(set(payments_247)) / len(set(users_247))"
   ]
  },
  {
   "cell_type": "code",
   "execution_count": null,
   "metadata": {
    "trusted": false
   },
   "outputs": [
    {
     "name": "stdout",
     "output_type": "stream",
     "text": [
      "1.602588827462412 0.10902546202332887\n"
     ]
    }
   ],
   "source": [
    "successes = [len(set(payments_246)), len(set(payments_247))]\n",
    "samples = [len(set(users_246)), len(set(users_247))]\n",
    "\n",
    "z_stat, p_value = proportions_ztest(successes, samples)\n",
    "print(z_stat, p_value)"
   ]
  },
  {
   "cell_type": "markdown",
   "metadata": {},
   "source": [
    "<div class=\"alert alert-block alert-success\">\n",
    "<b>Celdas [28–30]</b> <a class=\"tocSkip\"></a><br>\n",
    "Muy bien aplicada la prueba z para proporciones. Se justifican correctamente los pasos, incluyendo la definición de grupos, tasas de conversión y la interpretación del p-valor. El resultado es correctamente interpretado como ausencia de diferencias significativas, lo cual valida el diseño experimental.\n",
    "</div>\n"
   ]
  },
  {
   "cell_type": "markdown",
   "metadata": {},
   "source": [
    "Conclusión:\n",
    "El p-valor es 0.109, que es mayor que 0.05, por lo tanto:\n",
    "\n",
    "No hay evidencia estadísticamente significativa de que los grupos 246 y 247 tengan diferencias reales en la tasa de conversión."
   ]
  },
  {
   "cell_type": "markdown",
   "metadata": {},
   "source": [
    "5.3_Objetivo:\n",
    "Identificar el evento más popular.\n",
    "\n",
    "Para cada evento (incluyendo el más popular), comparar su proporción de usuarios en grupos de control 246 y 247.\n",
    "\n",
    "Usar un test de proporciones (z-test) para cada evento.\n",
    "\n",
    "Determinar si las diferencias son estadísticamente significativas.\n",
    "\n",
    "Confirmar si los grupos están correctamente divididos (es decir, sin diferencias significativas en un test A/A)."
   ]
  },
  {
   "cell_type": "code",
   "execution_count": null,
   "metadata": {
    "trusted": false
   },
   "outputs": [
    {
     "name": "stdout",
     "output_type": "stream",
     "text": [
      "                     event  group_246_proportion  group_247_proportion  \\\n",
      "1  PaymentScreenSuccessful                0.4829                0.4603   \n",
      "2         CartScreenAppear                0.5102                0.4921   \n",
      "3       OffersScreenAppear                0.6207                0.6071   \n",
      "0         MainScreenAppear                0.9867                0.9849   \n",
      "4                 Tutorial                0.1121                0.1135   \n",
      "\n",
      "   z_stat  p_value  significant  \n",
      "1  1.6026   0.1090        False  \n",
      "2  1.2868   0.1982        False  \n",
      "3  0.9877   0.3233        False  \n",
      "0  0.5451   0.5857        False  \n",
      "4 -0.1565   0.8757        False  \n"
     ]
    }
   ],
   "source": [
    "#Paso 1: Seleccionar el evento más popular\n",
    "event_counts = df_logs['eventname'].value_counts()\n",
    "most_popular_event = event_counts.idxmax()\n",
    "#Paso 2: Crear función para comparar proporciones entre expid 246 y 247\n",
    "def test_event_difference(event_name):\n",
    "    users_246 = df_logs[df_logs['expid'] == 246]['deviceidhash'].nunique()\n",
    "    users_247 = df_logs[df_logs['expid'] == 247]['deviceidhash'].nunique()\n",
    "\n",
    "    users_246_event = df_logs[(df_logs['expid'] == 246) & (df_logs['eventname'] == event_name)]['deviceidhash'].nunique()\n",
    "    users_247_event = df_logs[(df_logs['expid'] == 247) & (df_logs['eventname'] == event_name)]['deviceidhash'].nunique()\n",
    "\n",
    "    # Proporciones\n",
    "    p_246 = users_246_event / users_246\n",
    "    p_247 = users_247_event / users_247\n",
    "\n",
    "    # z-test\n",
    "    count = [users_246_event, users_247_event]\n",
    "    nobs = [users_246, users_247]\n",
    "    z_stat, p_val = proportions_ztest(count, nobs)\n",
    "\n",
    "    return {\n",
    "        'event': event_name,\n",
    "        'group_246_proportion': round(p_246, 4),\n",
    "        'group_247_proportion': round(p_247, 4),\n",
    "        'z_stat': round(z_stat, 4),\n",
    "        'p_value': round(p_val, 4),\n",
    "        'significant': p_val < 0.05\n",
    "    }\n",
    "#Paso 3: Aplicar la función a todos los eventos\n",
    "event_names = df_logs['eventname'].unique()\n",
    "results = [test_event_difference(event) for event in event_names]\n",
    "\n",
    "# Convertir a DataFrame para ver resultados\n",
    "results_df = pd.DataFrame(results).sort_values(by='p_value')\n",
    "print(results_df)"
   ]
  },
  {
   "cell_type": "markdown",
   "metadata": {},
   "source": [
    "Conclusión:\n",
    "Ningún evento muestra una diferencia estadísticamente significativa entre los grupos de control.\n",
    "\n",
    "Todos los p-valores están muy por encima de 0.05, lo cual es esperado en un test A/A.\n",
    "\n",
    "Esto confirma que los grupos 246 y 247 fueron asignados correctamente y aleatoriamente."
   ]
  },
  {
   "cell_type": "markdown",
   "metadata": {},
   "source": [
    "5.5. selecciona el evento mas popular para eventos con grupos alterados "
   ]
  },
  {
   "cell_type": "code",
   "execution_count": null,
   "metadata": {
    "trusted": false
   },
   "outputs": [],
   "source": [
    "def test_event_difference_between_groups(event_name, group_a, group_b):\n",
    "    group_a_df = df_logs[df_logs['expid'] == group_a]\n",
    "    group_b_df = df_logs[df_logs['expid'] == group_b]\n",
    "\n",
    "    total_a = group_a_df['deviceidhash'].nunique()\n",
    "    total_b = group_b_df['deviceidhash'].nunique()\n",
    "\n",
    "    event_a = group_a_df[group_a_df['eventname'] == event_name]['deviceidhash'].nunique()\n",
    "    event_b = group_b_df[group_b_df['eventname'] == event_name]['deviceidhash'].nunique()\n",
    "\n",
    "    p_a = event_a / total_a\n",
    "    p_b = event_b / total_b\n",
    "\n",
    "    z_stat, p_val = proportions_ztest([event_a, event_b], [total_a, total_b])\n",
    "\n",
    "    return {\n",
    "        'event': event_name,\n",
    "        'group_a': group_a,\n",
    "        'group_b': group_b,\n",
    "        'prop_a': round(p_a, 4),\n",
    "        'prop_b': round(p_b, 4),\n",
    "        'z_stat': round(z_stat, 4),\n",
    "        'p_value': round(p_val, 4),\n",
    "        'significant': p_val < 0.05\n",
    "    }"
   ]
  },
  {
   "cell_type": "code",
   "execution_count": null,
   "metadata": {
    "trusted": false
   },
   "outputs": [],
   "source": [
    "results_vs_246 = [test_event_difference_between_groups(event, 248, 246) for event in event_names]\n",
    "results_vs_247 = [test_event_difference_between_groups(event, 248, 247) for event in event_names]"
   ]
  },
  {
   "cell_type": "code",
   "execution_count": null,
   "metadata": {
    "scrolled": true,
    "trusted": false
   },
   "outputs": [
    {
     "data": {
      "text/html": [
       "<div>\n",
       "<style scoped>\n",
       "    .dataframe tbody tr th:only-of-type {\n",
       "        vertical-align: middle;\n",
       "    }\n",
       "\n",
       "    .dataframe tbody tr th {\n",
       "        vertical-align: top;\n",
       "    }\n",
       "\n",
       "    .dataframe thead th {\n",
       "        text-align: right;\n",
       "    }\n",
       "</style>\n",
       "<table border=\"1\" class=\"dataframe\">\n",
       "  <thead>\n",
       "    <tr style=\"text-align: right;\">\n",
       "      <th></th>\n",
       "      <th>event</th>\n",
       "      <th>group_a</th>\n",
       "      <th>group_b</th>\n",
       "      <th>prop_a</th>\n",
       "      <th>prop_b</th>\n",
       "      <th>z_stat</th>\n",
       "      <th>p_value</th>\n",
       "      <th>significant</th>\n",
       "    </tr>\n",
       "  </thead>\n",
       "  <tbody>\n",
       "    <tr>\n",
       "      <th>0</th>\n",
       "      <td>MainScreenAppear</td>\n",
       "      <td>248</td>\n",
       "      <td>247</td>\n",
       "      <td>0.9839</td>\n",
       "      <td>0.9849</td>\n",
       "      <td>-0.3013</td>\n",
       "      <td>0.7632</td>\n",
       "      <td>False</td>\n",
       "    </tr>\n",
       "    <tr>\n",
       "      <th>1</th>\n",
       "      <td>PaymentScreenSuccessful</td>\n",
       "      <td>248</td>\n",
       "      <td>247</td>\n",
       "      <td>0.4662</td>\n",
       "      <td>0.4603</td>\n",
       "      <td>0.4174</td>\n",
       "      <td>0.6764</td>\n",
       "      <td>False</td>\n",
       "    </tr>\n",
       "    <tr>\n",
       "      <th>2</th>\n",
       "      <td>CartScreenAppear</td>\n",
       "      <td>248</td>\n",
       "      <td>247</td>\n",
       "      <td>0.4874</td>\n",
       "      <td>0.4921</td>\n",
       "      <td>-0.3310</td>\n",
       "      <td>0.7406</td>\n",
       "      <td>False</td>\n",
       "    </tr>\n",
       "    <tr>\n",
       "      <th>3</th>\n",
       "      <td>OffersScreenAppear</td>\n",
       "      <td>248</td>\n",
       "      <td>247</td>\n",
       "      <td>0.6050</td>\n",
       "      <td>0.6071</td>\n",
       "      <td>-0.1534</td>\n",
       "      <td>0.8781</td>\n",
       "      <td>False</td>\n",
       "    </tr>\n",
       "    <tr>\n",
       "      <th>4</th>\n",
       "      <td>Tutorial</td>\n",
       "      <td>248</td>\n",
       "      <td>247</td>\n",
       "      <td>0.1109</td>\n",
       "      <td>0.1135</td>\n",
       "      <td>-0.2881</td>\n",
       "      <td>0.7733</td>\n",
       "      <td>False</td>\n",
       "    </tr>\n",
       "  </tbody>\n",
       "</table>\n",
       "</div>"
      ],
      "text/plain": [
       "                     event  group_a  group_b  prop_a  prop_b  z_stat  p_value  \\\n",
       "0         MainScreenAppear      248      247  0.9839  0.9849 -0.3013   0.7632   \n",
       "1  PaymentScreenSuccessful      248      247  0.4662  0.4603  0.4174   0.6764   \n",
       "2         CartScreenAppear      248      247  0.4874  0.4921 -0.3310   0.7406   \n",
       "3       OffersScreenAppear      248      247  0.6050  0.6071 -0.1534   0.8781   \n",
       "4                 Tutorial      248      247  0.1109  0.1135 -0.2881   0.7733   \n",
       "\n",
       "   significant  \n",
       "0        False  \n",
       "1        False  \n",
       "2        False  \n",
       "3        False  \n",
       "4        False  "
      ]
     },
     "execution_count": 34,
     "metadata": {},
     "output_type": "execute_result"
    }
   ],
   "source": [
    "pd.DataFrame(results_vs_246)\n",
    "pd.DataFrame(results_vs_247)"
   ]
  },
  {
   "cell_type": "markdown",
   "metadata": {},
   "source": [
    "<div class=\"alert alert-block alert-success\">\n",
    "<b>Celdas [31–34]</b> <a class=\"tocSkip\"></a><br>\n",
    "Muy buena implementación de un test A/A para validar la correcta aleatorización. Evaluar múltiples eventos y obtener que no hay diferencias significativas respalda la confiabilidad del experimento. Este tipo de verificación no siempre se incluye, y aquí se ejecuta con rigor.\n",
    "</div>\n"
   ]
  },
  {
   "cell_type": "code",
   "execution_count": null,
   "metadata": {
    "trusted": false
   },
   "outputs": [],
   "source": [
    "def test_event_vs_combined_control(event_name, exp_group=248, control_groups=[246, 247]):\n",
    "    # Filtrar datos\n",
    "    df_exp = df_logs[df_logs['expid'] == exp_group]\n",
    "    df_ctrl = df_logs[df_logs['expid'].isin(control_groups)]\n",
    "\n",
    "    # Usuarios únicos por grupo\n",
    "    exp_users_total = df_exp['deviceidhash'].nunique()\n",
    "    ctrl_users_total = df_ctrl['deviceidhash'].nunique()\n",
    "\n",
    "    # Usuarios que realizaron el evento\n",
    "    exp_event_users = df_exp[df_exp['eventname'] == event_name]['deviceidhash'].nunique()\n",
    "    ctrl_event_users = df_ctrl[df_ctrl['eventname'] == event_name]['deviceidhash'].nunique()\n",
    "\n",
    "    # Proporciones\n",
    "    prop_exp = exp_event_users / exp_users_total\n",
    "    prop_ctrl = ctrl_event_users / ctrl_users_total\n",
    "\n",
    "    # Test estadístico\n",
    "    z_stat, p_val = proportions_ztest([exp_event_users, ctrl_event_users],\n",
    "                                      [exp_users_total, ctrl_users_total])\n",
    "\n",
    "    return {\n",
    "        'event': event_name,\n",
    "        'exp_proportion': round(prop_exp, 4),\n",
    "        'ctrl_proportion': round(prop_ctrl, 4),\n",
    "        'z_stat': round(z_stat, 4),\n",
    "        'p_value': round(p_val, 4),\n",
    "        'significant': p_val < 0.05\n",
    "    }"
   ]
  },
  {
   "cell_type": "code",
   "execution_count": null,
   "metadata": {
    "scrolled": true,
    "trusted": false
   },
   "outputs": [
    {
     "data": {
      "text/html": [
       "<div>\n",
       "<style scoped>\n",
       "    .dataframe tbody tr th:only-of-type {\n",
       "        vertical-align: middle;\n",
       "    }\n",
       "\n",
       "    .dataframe tbody tr th {\n",
       "        vertical-align: top;\n",
       "    }\n",
       "\n",
       "    .dataframe thead th {\n",
       "        text-align: right;\n",
       "    }\n",
       "</style>\n",
       "<table border=\"1\" class=\"dataframe\">\n",
       "  <thead>\n",
       "    <tr style=\"text-align: right;\">\n",
       "      <th></th>\n",
       "      <th>event</th>\n",
       "      <th>exp_proportion</th>\n",
       "      <th>ctrl_proportion</th>\n",
       "      <th>z_stat</th>\n",
       "      <th>p_value</th>\n",
       "      <th>significant</th>\n",
       "    </tr>\n",
       "  </thead>\n",
       "  <tbody>\n",
       "    <tr>\n",
       "      <th>2</th>\n",
       "      <td>CartScreenAppear</td>\n",
       "      <td>0.4874</td>\n",
       "      <td>0.5011</td>\n",
       "      <td>-1.1241</td>\n",
       "      <td>0.2610</td>\n",
       "      <td>False</td>\n",
       "    </tr>\n",
       "    <tr>\n",
       "      <th>3</th>\n",
       "      <td>OffersScreenAppear</td>\n",
       "      <td>0.6050</td>\n",
       "      <td>0.6139</td>\n",
       "      <td>-0.7462</td>\n",
       "      <td>0.4555</td>\n",
       "      <td>False</td>\n",
       "    </tr>\n",
       "    <tr>\n",
       "      <th>0</th>\n",
       "      <td>MainScreenAppear</td>\n",
       "      <td>0.9839</td>\n",
       "      <td>0.9858</td>\n",
       "      <td>-0.6640</td>\n",
       "      <td>0.5067</td>\n",
       "      <td>False</td>\n",
       "    </tr>\n",
       "    <tr>\n",
       "      <th>1</th>\n",
       "      <td>PaymentScreenSuccessful</td>\n",
       "      <td>0.4662</td>\n",
       "      <td>0.4716</td>\n",
       "      <td>-0.4429</td>\n",
       "      <td>0.6578</td>\n",
       "      <td>False</td>\n",
       "    </tr>\n",
       "    <tr>\n",
       "      <th>4</th>\n",
       "      <td>Tutorial</td>\n",
       "      <td>0.1109</td>\n",
       "      <td>0.1128</td>\n",
       "      <td>-0.2421</td>\n",
       "      <td>0.8087</td>\n",
       "      <td>False</td>\n",
       "    </tr>\n",
       "  </tbody>\n",
       "</table>\n",
       "</div>"
      ],
      "text/plain": [
       "                     event  exp_proportion  ctrl_proportion  z_stat  p_value  \\\n",
       "2         CartScreenAppear          0.4874           0.5011 -1.1241   0.2610   \n",
       "3       OffersScreenAppear          0.6050           0.6139 -0.7462   0.4555   \n",
       "0         MainScreenAppear          0.9839           0.9858 -0.6640   0.5067   \n",
       "1  PaymentScreenSuccessful          0.4662           0.4716 -0.4429   0.6578   \n",
       "4                 Tutorial          0.1109           0.1128 -0.2421   0.8087   \n",
       "\n",
       "   significant  \n",
       "2        False  \n",
       "3        False  \n",
       "0        False  \n",
       "1        False  \n",
       "4        False  "
      ]
     },
     "execution_count": 36,
     "metadata": {},
     "output_type": "execute_result"
    }
   ],
   "source": [
    "results_vs_combined = [test_event_vs_combined_control(event) for event in event_names]\n",
    "pd.DataFrame(results_vs_combined).sort_values(by='p_value')"
   ]
  },
  {
   "cell_type": "markdown",
   "metadata": {},
   "source": [
    "<div class=\"alert alert-block alert-success\">\n",
    "<b>Celdas [35–36]</b> <a class=\"tocSkip\"></a><br>\n",
    "Excelente reflexión sobre el efecto del cambio de fuente y su impacto (o falta de él) en la experiencia de usuario. También se valora mucho el análisis de errores tipo I al realizar múltiples pruebas de hipótesis. Se nota un buen entendimiento del contexto estadístico y su interpretación.\n",
    "</div>\n"
   ]
  },
  {
   "cell_type": "markdown",
   "metadata": {},
   "source": [
    "Conclusión del experimento:\n",
    "Ninguno de los eventos analizados muestra diferencias estadísticamente significativas entre el grupo experimental (fuente alterada) y los controles.\n",
    "\n",
    "Todos los p-valores > 0.05, lo que indica que cualquier diferencia observada es probablemente atribuible al azar.\n",
    "\n",
    "Por lo tanto, el cambio de fuente no tuvo un efecto medible en el comportamiento de los usuarios para estos eventos clave.\n",
    " \n",
    "\n",
    "Desde un punto de vista estadístico, puedes concluir que la fuente alterada no afectó negativamente ni positivamente el recorrido principal de los usuarios.\n",
    "\n",
    "Si el objetivo era verificar que el cambio no impacta negativamente, entonces la prueba es exitosa.\n",
    "\n",
    "Si se esperaba una mejora (en exploración, conversión, etc.), entonces no se observó ningún beneficio medible.\n",
    "\n"
   ]
  },
  {
   "cell_type": "markdown",
   "metadata": {},
   "source": [
    "5.6. Nivel de significancia utilizado\n",
    "Hasta ahora hemos usado el nivel estándar de significancia estadística α = 0.05,\n",
    "en el analisis final α = 0.1"
   ]
  },
  {
   "cell_type": "markdown",
   "metadata": {},
   "source": [
    " se han evaluado 5 eventos distintos, comparando el grupo experimental con:\n",
    "\n",
    "1.Grupo 246\n",
    "\n",
    "2.Grupo 247\n",
    "\n",
    "3.Grupo 246 + 247 (combinado)\n",
    "\n",
    "Eso da:\n",
    "5 eventos × 3 comparaciones = 15 pruebas de hipótesis"
   ]
  },
  {
   "cell_type": "markdown",
   "metadata": {},
   "source": [
    "Con 15 pruebas y un nivel de significancia de 0.1, la probabilidad de obtener al menos 1 falso positivo por azar es:\n",
    "\n",
    "1\n",
    "−\n",
    "(\n",
    "1\n",
    "−\n",
    "0.1\n",
    ")\n",
    "15\n",
    "≈\n",
    "0.79\n",
    "1−(1−0.1) \n",
    "15\n",
    " ≈0.79\n",
    "\n",
    "hay un 79% de probabilidad de que al menos una las pruebas dé un falso positivo solo por azar, ¡aunque no haya ningún efecto real!"
   ]
  },
  {
   "cell_type": "markdown",
   "metadata": {},
   "source": [
    "Para mantener el control del error tipo I,\n",
    "se Mantene α = 0.05\n"
   ]
  },
  {
   "cell_type": "markdown",
   "metadata": {},
   "source": [
    "<div class=\"alert alert-block alert-success\">\n",
    "<b>Comentario final</b> <a class=\"tocSkip\"></a><br>\n",
    "¡Buen trabajo, Emanuel! Tu proyecto demuestra un análisis meticuloso, sólido manejo de datos, y una aplicación adecuada de estadística para evaluación de embudos y experimentos A/B.  \n",
    "Destacan especialmente tu tratamiento del flujo de usuarios y las validaciones estadísticas que realizaste.  \n",
    "  \n",
    "Sigue así, estás desarrollando habilidades analíticas muy valiosas. ¡Felicitaciones!\n",
    "</div>\n"
   ]
  }
 ],
 "metadata": {
  "ExecuteTimeLog": [
   {
    "duration": 2826,
    "start_time": "2025-05-01T19:57:57.732Z"
   },
   {
    "duration": 3,
    "start_time": "2025-05-01T19:58:07.211Z"
   },
   {
    "duration": 246,
    "start_time": "2025-05-01T20:05:20.762Z"
   },
   {
    "duration": 9,
    "start_time": "2025-05-01T20:07:23.012Z"
   },
   {
    "duration": 6,
    "start_time": "2025-05-01T20:07:45.863Z"
   },
   {
    "duration": 17,
    "start_time": "2025-05-01T20:15:32.779Z"
   },
   {
    "duration": 426,
    "start_time": "2025-05-01T20:16:34.783Z"
   },
   {
    "duration": 13,
    "start_time": "2025-05-01T20:17:33.308Z"
   },
   {
    "duration": 6,
    "start_time": "2025-05-01T20:21:50.888Z"
   },
   {
    "duration": 7,
    "start_time": "2025-05-01T20:21:58.779Z"
   },
   {
    "duration": 6,
    "start_time": "2025-05-01T20:22:14.347Z"
   },
   {
    "duration": 8,
    "start_time": "2025-05-01T20:22:28.188Z"
   },
   {
    "duration": 807,
    "start_time": "2025-05-01T20:23:11.334Z"
   },
   {
    "duration": 187,
    "start_time": "2025-05-01T20:23:12.143Z"
   },
   {
    "duration": 10,
    "start_time": "2025-05-01T20:23:12.332Z"
   },
   {
    "duration": 5,
    "start_time": "2025-05-01T20:23:12.344Z"
   },
   {
    "duration": 6,
    "start_time": "2025-05-01T20:23:24.507Z"
   },
   {
    "duration": 6,
    "start_time": "2025-05-01T20:27:47.840Z"
   },
   {
    "duration": 8,
    "start_time": "2025-05-01T20:32:39.278Z"
   },
   {
    "duration": 6,
    "start_time": "2025-05-01T20:34:36.507Z"
   },
   {
    "duration": 272,
    "start_time": "2025-05-01T20:35:59.777Z"
   },
   {
    "duration": 26,
    "start_time": "2025-05-01T20:36:38.758Z"
   },
   {
    "duration": 19,
    "start_time": "2025-05-01T20:36:48.265Z"
   },
   {
    "duration": 5,
    "start_time": "2025-05-01T20:37:07.021Z"
   },
   {
    "duration": 10,
    "start_time": "2025-05-01T20:45:57.720Z"
   },
   {
    "duration": 6,
    "start_time": "2025-05-01T20:52:42.947Z"
   },
   {
    "duration": 14,
    "start_time": "2025-05-01T20:52:53.132Z"
   },
   {
    "duration": 3,
    "start_time": "2025-05-01T20:52:59.239Z"
   },
   {
    "duration": 6,
    "start_time": "2025-05-01T20:53:11.136Z"
   },
   {
    "duration": 9,
    "start_time": "2025-05-01T20:53:36.258Z"
   },
   {
    "duration": 7,
    "start_time": "2025-05-01T20:53:47.168Z"
   },
   {
    "duration": 13,
    "start_time": "2025-05-01T20:55:15.909Z"
   },
   {
    "duration": 15,
    "start_time": "2025-05-01T20:56:43.288Z"
   },
   {
    "duration": 3,
    "start_time": "2025-05-01T20:56:50.725Z"
   },
   {
    "duration": 7,
    "start_time": "2025-05-01T20:57:08.850Z"
   },
   {
    "duration": 4,
    "start_time": "2025-05-01T20:59:22.781Z"
   },
   {
    "duration": 3,
    "start_time": "2025-05-01T20:59:29.817Z"
   },
   {
    "duration": 786,
    "start_time": "2025-05-01T20:59:55.500Z"
   },
   {
    "duration": 192,
    "start_time": "2025-05-01T20:59:56.289Z"
   },
   {
    "duration": 3,
    "start_time": "2025-05-01T20:59:56.484Z"
   },
   {
    "duration": 0,
    "start_time": "2025-05-01T20:59:56.490Z"
   },
   {
    "duration": 0,
    "start_time": "2025-05-01T20:59:56.491Z"
   },
   {
    "duration": 0,
    "start_time": "2025-05-01T20:59:56.492Z"
   },
   {
    "duration": 0,
    "start_time": "2025-05-01T20:59:56.494Z"
   },
   {
    "duration": 0,
    "start_time": "2025-05-01T20:59:56.495Z"
   },
   {
    "duration": 0,
    "start_time": "2025-05-01T20:59:56.497Z"
   },
   {
    "duration": 0,
    "start_time": "2025-05-01T20:59:56.498Z"
   },
   {
    "duration": 0,
    "start_time": "2025-05-01T20:59:56.500Z"
   },
   {
    "duration": 180,
    "start_time": "2025-05-01T21:00:40.408Z"
   },
   {
    "duration": 844,
    "start_time": "2025-05-01T21:02:22.356Z"
   },
   {
    "duration": 180,
    "start_time": "2025-05-01T21:02:23.202Z"
   },
   {
    "duration": 186,
    "start_time": "2025-05-01T21:02:23.384Z"
   },
   {
    "duration": 11,
    "start_time": "2025-05-01T21:02:23.573Z"
   },
   {
    "duration": 12,
    "start_time": "2025-05-01T21:02:23.586Z"
   },
   {
    "duration": 3,
    "start_time": "2025-05-01T21:02:23.599Z"
   },
   {
    "duration": 23,
    "start_time": "2025-05-01T21:02:23.604Z"
   },
   {
    "duration": 793,
    "start_time": "2025-05-01T21:02:46.217Z"
   },
   {
    "duration": 183,
    "start_time": "2025-05-01T21:02:47.012Z"
   },
   {
    "duration": 11,
    "start_time": "2025-05-01T21:02:47.196Z"
   },
   {
    "duration": 21,
    "start_time": "2025-05-01T21:02:47.209Z"
   },
   {
    "duration": 3,
    "start_time": "2025-05-01T21:02:47.232Z"
   },
   {
    "duration": 8,
    "start_time": "2025-05-01T21:02:47.237Z"
   },
   {
    "duration": 5,
    "start_time": "2025-05-01T21:03:06.390Z"
   },
   {
    "duration": 2608,
    "start_time": "2025-05-02T01:44:59.672Z"
   },
   {
    "duration": 132,
    "start_time": "2025-05-02T01:45:02.282Z"
   },
   {
    "duration": 12,
    "start_time": "2025-05-02T01:45:02.416Z"
   },
   {
    "duration": 13,
    "start_time": "2025-05-02T01:45:02.442Z"
   },
   {
    "duration": 3,
    "start_time": "2025-05-02T01:45:02.456Z"
   },
   {
    "duration": 8,
    "start_time": "2025-05-02T01:45:02.461Z"
   },
   {
    "duration": 134,
    "start_time": "2025-05-02T01:45:43.805Z"
   },
   {
    "duration": 3,
    "start_time": "2025-05-02T01:46:15.473Z"
   },
   {
    "duration": 2,
    "start_time": "2025-05-02T01:46:25.439Z"
   },
   {
    "duration": 834,
    "start_time": "2025-05-02T01:46:34.695Z"
   },
   {
    "duration": 107,
    "start_time": "2025-05-02T01:46:35.531Z"
   },
   {
    "duration": 11,
    "start_time": "2025-05-02T01:46:35.640Z"
   },
   {
    "duration": 17,
    "start_time": "2025-05-02T01:46:35.654Z"
   },
   {
    "duration": 4,
    "start_time": "2025-05-02T01:46:35.672Z"
   },
   {
    "duration": 6,
    "start_time": "2025-05-02T01:46:35.677Z"
   },
   {
    "duration": 7,
    "start_time": "2025-05-02T01:47:58.000Z"
   },
   {
    "duration": 812,
    "start_time": "2025-05-02T01:50:26.482Z"
   },
   {
    "duration": 104,
    "start_time": "2025-05-02T01:50:27.297Z"
   },
   {
    "duration": 3,
    "start_time": "2025-05-02T01:50:27.402Z"
   },
   {
    "duration": 12,
    "start_time": "2025-05-02T01:50:27.407Z"
   },
   {
    "duration": 25,
    "start_time": "2025-05-02T01:50:27.421Z"
   },
   {
    "duration": 3,
    "start_time": "2025-05-02T01:50:27.447Z"
   },
   {
    "duration": 6,
    "start_time": "2025-05-02T01:50:27.452Z"
   },
   {
    "duration": 6,
    "start_time": "2025-05-02T01:50:57.877Z"
   },
   {
    "duration": 155,
    "start_time": "2025-05-03T17:16:45.204Z"
   },
   {
    "duration": 785,
    "start_time": "2025-05-03T17:17:03.347Z"
   },
   {
    "duration": 133,
    "start_time": "2025-05-03T17:17:04.134Z"
   },
   {
    "duration": 2,
    "start_time": "2025-05-03T17:17:04.269Z"
   },
   {
    "duration": 11,
    "start_time": "2025-05-03T17:17:04.273Z"
   },
   {
    "duration": 27,
    "start_time": "2025-05-03T17:17:04.286Z"
   },
   {
    "duration": 3,
    "start_time": "2025-05-03T17:17:04.314Z"
   },
   {
    "duration": 5,
    "start_time": "2025-05-03T17:17:04.319Z"
   },
   {
    "duration": 13,
    "start_time": "2025-05-03T17:17:23.755Z"
   },
   {
    "duration": 2,
    "start_time": "2025-05-03T17:19:57.114Z"
   },
   {
    "duration": 54,
    "start_time": "2025-05-03T17:20:37.985Z"
   },
   {
    "duration": 12,
    "start_time": "2025-05-03T17:20:44.234Z"
   },
   {
    "duration": 2,
    "start_time": "2025-05-03T17:22:37.751Z"
   },
   {
    "duration": 11,
    "start_time": "2025-05-03T17:22:44.110Z"
   },
   {
    "duration": 3,
    "start_time": "2025-05-03T17:23:22.847Z"
   },
   {
    "duration": 7,
    "start_time": "2025-05-03T17:27:10.738Z"
   },
   {
    "duration": 3,
    "start_time": "2025-05-03T17:27:39.086Z"
   },
   {
    "duration": 260,
    "start_time": "2025-05-03T17:31:00.066Z"
   },
   {
    "duration": 14,
    "start_time": "2025-05-03T17:31:12.846Z"
   },
   {
    "duration": 15,
    "start_time": "2025-05-03T17:32:19.392Z"
   },
   {
    "duration": 19,
    "start_time": "2025-05-03T17:32:32.573Z"
   },
   {
    "duration": 6,
    "start_time": "2025-05-03T17:32:53.717Z"
   },
   {
    "duration": 7,
    "start_time": "2025-05-03T17:35:29.623Z"
   },
   {
    "duration": 4,
    "start_time": "2025-05-03T17:35:54.479Z"
   },
   {
    "duration": 7,
    "start_time": "2025-05-03T17:38:04.959Z"
   },
   {
    "duration": 16,
    "start_time": "2025-05-03T17:39:37.813Z"
   },
   {
    "duration": 4133,
    "start_time": "2025-05-03T17:40:13.635Z"
   },
   {
    "duration": 4169,
    "start_time": "2025-05-03T17:40:55.427Z"
   },
   {
    "duration": 5135,
    "start_time": "2025-05-03T17:41:08.657Z"
   },
   {
    "duration": 4170,
    "start_time": "2025-05-03T17:41:28.453Z"
   },
   {
    "duration": 4039,
    "start_time": "2025-05-03T17:43:09.644Z"
   },
   {
    "duration": 4149,
    "start_time": "2025-05-03T17:44:38.566Z"
   },
   {
    "duration": 3,
    "start_time": "2025-05-03T17:46:36.619Z"
   },
   {
    "duration": 483,
    "start_time": "2025-05-03T17:47:20.277Z"
   },
   {
    "duration": 387,
    "start_time": "2025-05-03T17:55:11.991Z"
   },
   {
    "duration": 325,
    "start_time": "2025-05-03T18:03:43.651Z"
   },
   {
    "duration": 21,
    "start_time": "2025-05-03T18:05:38.977Z"
   },
   {
    "duration": 4,
    "start_time": "2025-05-03T18:12:10.643Z"
   },
   {
    "duration": 24,
    "start_time": "2025-05-03T18:12:36.800Z"
   },
   {
    "duration": 21,
    "start_time": "2025-05-06T01:20:07.777Z"
   },
   {
    "duration": 28,
    "start_time": "2025-05-06T01:37:06.881Z"
   },
   {
    "duration": 46,
    "start_time": "2025-05-06T01:38:52.701Z"
   },
   {
    "duration": 20,
    "start_time": "2025-05-06T01:39:39.952Z"
   },
   {
    "duration": 2670,
    "start_time": "2025-05-07T00:27:15.024Z"
   },
   {
    "duration": 194,
    "start_time": "2025-05-07T00:27:17.696Z"
   },
   {
    "duration": 4,
    "start_time": "2025-05-07T00:27:17.892Z"
   },
   {
    "duration": 17,
    "start_time": "2025-05-07T00:27:17.898Z"
   },
   {
    "duration": 13,
    "start_time": "2025-05-07T00:27:17.918Z"
   },
   {
    "duration": 4,
    "start_time": "2025-05-07T00:27:17.933Z"
   },
   {
    "duration": 9,
    "start_time": "2025-05-07T00:27:17.942Z"
   },
   {
    "duration": 91,
    "start_time": "2025-05-07T00:27:17.953Z"
   },
   {
    "duration": 4,
    "start_time": "2025-05-07T00:27:18.046Z"
   },
   {
    "duration": 4,
    "start_time": "2025-05-07T00:27:18.052Z"
   },
   {
    "duration": 10,
    "start_time": "2025-05-07T00:27:18.058Z"
   },
   {
    "duration": 5,
    "start_time": "2025-05-07T00:27:18.069Z"
   },
   {
    "duration": 605,
    "start_time": "2025-05-07T00:27:18.076Z"
   },
   {
    "duration": 395,
    "start_time": "2025-05-07T00:27:18.685Z"
   },
   {
    "duration": 32,
    "start_time": "2025-05-07T00:27:19.082Z"
   },
   {
    "duration": 4,
    "start_time": "2025-05-07T00:27:19.116Z"
   },
   {
    "duration": 24,
    "start_time": "2025-05-07T00:27:19.122Z"
   },
   {
    "duration": 24,
    "start_time": "2025-05-07T00:27:19.147Z"
   },
   {
    "duration": 63,
    "start_time": "2025-05-07T00:27:19.175Z"
   },
   {
    "duration": 7,
    "start_time": "2025-05-07T00:27:19.240Z"
   },
   {
    "duration": 265,
    "start_time": "2025-05-07T00:29:05.521Z"
   },
   {
    "duration": 76,
    "start_time": "2025-05-07T00:29:17.709Z"
   },
   {
    "duration": 87,
    "start_time": "2025-05-07T00:30:46.567Z"
   },
   {
    "duration": 85,
    "start_time": "2025-05-07T00:30:55.650Z"
   },
   {
    "duration": 215,
    "start_time": "2025-05-07T00:31:18.335Z"
   },
   {
    "duration": 3,
    "start_time": "2025-05-07T00:32:11.451Z"
   },
   {
    "duration": 215,
    "start_time": "2025-05-07T00:33:10.052Z"
   },
   {
    "duration": 80,
    "start_time": "2025-05-07T00:45:37.605Z"
   },
   {
    "duration": 4,
    "start_time": "2025-05-07T01:01:58.314Z"
   },
   {
    "duration": 5,
    "start_time": "2025-05-07T01:04:51.622Z"
   },
   {
    "duration": 15,
    "start_time": "2025-05-07T01:05:46.309Z"
   },
   {
    "duration": 86,
    "start_time": "2025-05-07T01:39:28.891Z"
   },
   {
    "duration": 87,
    "start_time": "2025-05-07T01:40:05.533Z"
   },
   {
    "duration": 99,
    "start_time": "2025-05-07T01:40:10.832Z"
   },
   {
    "duration": 21,
    "start_time": "2025-05-07T01:40:43.236Z"
   },
   {
    "duration": 3,
    "start_time": "2025-05-07T01:41:15.285Z"
   },
   {
    "duration": 170,
    "start_time": "2025-05-07T22:59:22.590Z"
   },
   {
    "duration": 2545,
    "start_time": "2025-05-07T22:59:31.716Z"
   },
   {
    "duration": 125,
    "start_time": "2025-05-07T22:59:34.263Z"
   },
   {
    "duration": 4,
    "start_time": "2025-05-07T22:59:34.390Z"
   },
   {
    "duration": 11,
    "start_time": "2025-05-07T22:59:34.396Z"
   },
   {
    "duration": 12,
    "start_time": "2025-05-07T22:59:34.409Z"
   },
   {
    "duration": 3,
    "start_time": "2025-05-07T22:59:34.422Z"
   },
   {
    "duration": 19,
    "start_time": "2025-05-07T22:59:34.427Z"
   },
   {
    "duration": 46,
    "start_time": "2025-05-07T22:59:34.449Z"
   },
   {
    "duration": 3,
    "start_time": "2025-05-07T22:59:34.497Z"
   },
   {
    "duration": 3,
    "start_time": "2025-05-07T22:59:34.501Z"
   },
   {
    "duration": 8,
    "start_time": "2025-05-07T22:59:34.506Z"
   },
   {
    "duration": 29,
    "start_time": "2025-05-07T22:59:34.516Z"
   },
   {
    "duration": 530,
    "start_time": "2025-05-07T22:59:34.547Z"
   },
   {
    "duration": 339,
    "start_time": "2025-05-07T22:59:35.080Z"
   },
   {
    "duration": 29,
    "start_time": "2025-05-07T22:59:35.420Z"
   },
   {
    "duration": 4,
    "start_time": "2025-05-07T22:59:35.451Z"
   },
   {
    "duration": 22,
    "start_time": "2025-05-07T22:59:35.456Z"
   },
   {
    "duration": 23,
    "start_time": "2025-05-07T22:59:35.479Z"
   },
   {
    "duration": 72,
    "start_time": "2025-05-07T22:59:35.504Z"
   },
   {
    "duration": 14,
    "start_time": "2025-05-07T22:59:35.578Z"
   },
   {
    "duration": 287,
    "start_time": "2025-05-07T22:59:35.593Z"
   },
   {
    "duration": 86,
    "start_time": "2025-05-07T22:59:35.882Z"
   },
   {
    "duration": 4,
    "start_time": "2025-05-07T22:59:35.970Z"
   },
   {
    "duration": 7,
    "start_time": "2025-05-07T22:59:35.975Z"
   },
   {
    "duration": 116,
    "start_time": "2025-05-07T22:59:35.983Z"
   },
   {
    "duration": 18,
    "start_time": "2025-05-07T22:59:36.101Z"
   },
   {
    "duration": 3,
    "start_time": "2025-05-07T22:59:36.121Z"
   },
   {
    "duration": 264,
    "start_time": "2025-05-07T22:59:36.126Z"
   },
   {
    "duration": 24,
    "start_time": "2025-05-07T22:59:47.004Z"
   },
   {
    "duration": 37,
    "start_time": "2025-05-07T23:17:34.152Z"
   },
   {
    "duration": 16,
    "start_time": "2025-05-07T23:18:57.749Z"
   },
   {
    "duration": 8,
    "start_time": "2025-05-07T23:19:20.272Z"
   },
   {
    "duration": 4,
    "start_time": "2025-05-07T23:19:28.365Z"
   },
   {
    "duration": 3,
    "start_time": "2025-05-07T23:20:05.465Z"
   },
   {
    "duration": 3,
    "start_time": "2025-05-07T23:21:05.324Z"
   },
   {
    "duration": 14,
    "start_time": "2025-05-07T23:24:25.812Z"
   },
   {
    "duration": 3,
    "start_time": "2025-05-07T23:24:34.127Z"
   },
   {
    "duration": 3,
    "start_time": "2025-05-07T23:24:53.161Z"
   },
   {
    "duration": 4,
    "start_time": "2025-05-07T23:35:58.300Z"
   },
   {
    "duration": 5,
    "start_time": "2025-05-07T23:36:06.813Z"
   },
   {
    "duration": 3,
    "start_time": "2025-05-07T23:37:03.034Z"
   },
   {
    "duration": 5,
    "start_time": "2025-05-07T23:38:28.546Z"
   },
   {
    "duration": 4,
    "start_time": "2025-05-07T23:38:47.182Z"
   },
   {
    "duration": 17,
    "start_time": "2025-05-07T23:44:54.684Z"
   },
   {
    "duration": 8,
    "start_time": "2025-05-07T23:47:37.252Z"
   },
   {
    "duration": 197,
    "start_time": "2025-05-07T23:47:48.202Z"
   },
   {
    "duration": 20,
    "start_time": "2025-05-08T00:03:01.216Z"
   },
   {
    "duration": 21,
    "start_time": "2025-05-08T00:06:29.408Z"
   },
   {
    "duration": 19,
    "start_time": "2025-05-08T00:07:04.428Z"
   },
   {
    "duration": 17,
    "start_time": "2025-05-08T00:08:41.866Z"
   },
   {
    "duration": 4,
    "start_time": "2025-05-08T00:18:58.072Z"
   },
   {
    "duration": 187,
    "start_time": "2025-05-08T00:19:46.493Z"
   },
   {
    "duration": 10,
    "start_time": "2025-05-08T00:20:17.886Z"
   },
   {
    "duration": 6,
    "start_time": "2025-05-08T00:22:07.853Z"
   },
   {
    "duration": 139,
    "start_time": "2025-05-08T00:23:21.115Z"
   },
   {
    "duration": 2577,
    "start_time": "2025-05-10T22:57:49.138Z"
   },
   {
    "duration": 128,
    "start_time": "2025-05-10T22:57:51.718Z"
   },
   {
    "duration": 3,
    "start_time": "2025-05-10T22:57:51.847Z"
   },
   {
    "duration": 12,
    "start_time": "2025-05-10T22:57:51.852Z"
   },
   {
    "duration": 13,
    "start_time": "2025-05-10T22:57:51.866Z"
   },
   {
    "duration": 3,
    "start_time": "2025-05-10T22:57:51.880Z"
   },
   {
    "duration": 7,
    "start_time": "2025-05-10T22:57:51.884Z"
   },
   {
    "duration": 77,
    "start_time": "2025-05-10T22:57:51.893Z"
   },
   {
    "duration": 3,
    "start_time": "2025-05-10T22:57:51.972Z"
   },
   {
    "duration": 3,
    "start_time": "2025-05-10T22:57:51.977Z"
   },
   {
    "duration": 7,
    "start_time": "2025-05-10T22:57:51.982Z"
   },
   {
    "duration": 4,
    "start_time": "2025-05-10T22:57:51.991Z"
   },
   {
    "duration": 576,
    "start_time": "2025-05-10T22:57:51.997Z"
   },
   {
    "duration": 325,
    "start_time": "2025-05-10T22:57:52.577Z"
   },
   {
    "duration": 22,
    "start_time": "2025-05-10T22:57:52.904Z"
   },
   {
    "duration": 16,
    "start_time": "2025-05-10T22:57:52.928Z"
   },
   {
    "duration": 27,
    "start_time": "2025-05-10T22:57:52.947Z"
   },
   {
    "duration": 19,
    "start_time": "2025-05-10T22:57:52.976Z"
   },
   {
    "duration": 61,
    "start_time": "2025-05-10T22:57:52.997Z"
   },
   {
    "duration": 7,
    "start_time": "2025-05-10T22:57:53.061Z"
   },
   {
    "duration": 293,
    "start_time": "2025-05-10T22:57:53.070Z"
   },
   {
    "duration": 85,
    "start_time": "2025-05-10T22:57:53.365Z"
   },
   {
    "duration": 4,
    "start_time": "2025-05-10T22:57:53.451Z"
   },
   {
    "duration": 5,
    "start_time": "2025-05-10T22:57:53.459Z"
   },
   {
    "duration": 111,
    "start_time": "2025-05-10T22:57:53.466Z"
   },
   {
    "duration": 21,
    "start_time": "2025-05-10T22:57:53.579Z"
   },
   {
    "duration": 2,
    "start_time": "2025-05-10T22:57:53.601Z"
   },
   {
    "duration": 38,
    "start_time": "2025-05-10T22:57:53.605Z"
   },
   {
    "duration": 38,
    "start_time": "2025-05-10T22:57:53.644Z"
   },
   {
    "duration": 4,
    "start_time": "2025-05-10T22:57:53.684Z"
   },
   {
    "duration": 205,
    "start_time": "2025-05-10T22:57:53.689Z"
   },
   {
    "duration": 5,
    "start_time": "2025-05-10T22:57:53.896Z"
   },
   {
    "duration": 194,
    "start_time": "2025-05-10T22:57:53.903Z"
   },
   {
    "duration": 10,
    "start_time": "2025-05-10T22:57:54.099Z"
   },
   {
    "duration": 4,
    "start_time": "2025-05-10T22:57:54.111Z"
   },
   {
    "duration": 166,
    "start_time": "2025-05-10T22:57:54.117Z"
   }
  ],
  "kernelspec": {
   "display_name": "Python 3 (ipykernel)",
   "language": "python",
   "name": "python3"
  },
  "language_info": {
   "codemirror_mode": {
    "name": "ipython",
    "version": 3
   },
   "file_extension": ".py",
   "mimetype": "text/x-python",
   "name": "python",
   "nbconvert_exporter": "python",
   "pygments_lexer": "ipython3",
   "version": "3.9.19"
  },
  "toc": {
   "base_numbering": 1,
   "nav_menu": {},
   "number_sections": true,
   "sideBar": true,
   "skip_h1_title": true,
   "title_cell": "Table of Contents",
   "title_sidebar": "Contents",
   "toc_cell": false,
   "toc_position": {},
   "toc_section_display": true,
   "toc_window_display": false
  }
 },
 "nbformat": 4,
 "nbformat_minor": 2
}
